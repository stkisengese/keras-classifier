{
 "cells": [
  {
   "cell_type": "code",
   "execution_count": 1,
   "id": "1179a1e2-ef58-44bf-a437-e0882332adaf",
   "metadata": {},
   "outputs": [],
   "source": [
    "# Exercise 1: Sequential"
   ]
  },
  {
   "cell_type": "code",
   "execution_count": 35,
   "id": "e5c869d5-f7a5-4ad9-83ee-5037e55bd28f",
   "metadata": {},
   "outputs": [
    {
     "name": "stdout",
     "output_type": "stream",
     "text": [
      "3.11.3\n"
     ]
    }
   ],
   "source": [
    "from tensorflow import keras\n",
    "print(keras.__version__)"
   ]
  },
  {
   "cell_type": "code",
   "execution_count": 36,
   "id": "eb280261-442d-4380-8e59-2f4f32215e25",
   "metadata": {},
   "outputs": [],
   "source": [
    "from tensorflow.keras.models import Sequential\n",
    "from tensorflow.keras.layers import Dense"
   ]
  },
  {
   "cell_type": "code",
   "execution_count": 37,
   "id": "90d5f536-8c28-4f6e-80f7-391d7a2dedef",
   "metadata": {},
   "outputs": [
    {
     "name": "stdout",
     "output_type": "stream",
     "text": [
      "<Sequential name=sequential_12, built=False>\n",
      "<class 'keras.src.models.sequential.Sequential'>\n"
     ]
    }
   ],
   "source": [
    "model = Sequential()\n",
    "print(model)\n",
    "print(type(model))"
   ]
  },
  {
   "cell_type": "code",
   "execution_count": 25,
   "id": "dc8367b5-961e-4325-9c6c-f1ae6d8c2ad9",
   "metadata": {},
   "outputs": [],
   "source": [
    "# Exercise 2: Dense"
   ]
  },
  {
   "cell_type": "code",
   "execution_count": 43,
   "id": "14719443-95cc-4adb-9004-90d8d0737718",
   "metadata": {},
   "outputs": [
    {
     "name": "stdout",
     "output_type": "stream",
     "text": [
      "Layer 1 config: {'name': 'dense_14', 'trainable': True, 'dtype': {'module': 'keras', 'class_name': 'DTypePolicy', 'config': {'name': 'float32'}, 'registered_name': None}, 'units': 8, 'activation': 'sigmoid', 'use_bias': True, 'kernel_initializer': {'module': 'keras.initializers', 'class_name': 'GlorotUniform', 'config': {'seed': None}, 'registered_name': None}, 'bias_initializer': {'module': 'keras.initializers', 'class_name': 'Zeros', 'config': {}, 'registered_name': None}, 'kernel_regularizer': None, 'bias_regularizer': None, 'kernel_constraint': None, 'bias_constraint': None}\n",
      "Layer 2 config: {'name': 'dense_15', 'trainable': True, 'dtype': {'module': 'keras', 'class_name': 'DTypePolicy', 'config': {'name': 'float32'}, 'registered_name': None}, 'units': 4, 'activation': 'sigmoid', 'use_bias': True, 'kernel_initializer': {'module': 'keras.initializers', 'class_name': 'GlorotUniform', 'config': {'seed': None}, 'registered_name': None}, 'bias_initializer': {'module': 'keras.initializers', 'class_name': 'Zeros', 'config': {}, 'registered_name': None}, 'kernel_regularizer': None, 'bias_regularizer': None, 'kernel_constraint': None, 'bias_constraint': None}\n",
      "Layer 3 config: {'name': 'dense_16', 'trainable': True, 'dtype': {'module': 'keras', 'class_name': 'DTypePolicy', 'config': {'name': 'float32'}, 'registered_name': None}, 'units': 1, 'activation': 'sigmoid', 'use_bias': True, 'kernel_initializer': {'module': 'keras.initializers', 'class_name': 'GlorotUniform', 'config': {'seed': None}, 'registered_name': None}, 'bias_initializer': {'module': 'keras.initializers', 'class_name': 'Zeros', 'config': {}, 'registered_name': None}, 'kernel_regularizer': None, 'bias_regularizer': None, 'kernel_constraint': None, 'bias_constraint': None}\n"
     ]
    }
   ],
   "source": [
    "# First hidden layer: 8 neurons, sigmoid, input_dim=5\n",
    "layer1 = Dense(units=8, activation='sigmoid', input_dim=5)\n",
    "print(\"Layer 1 config:\", layer1.get_config())\n",
    "\n",
    "# Hidden layer (not first): 4 neurons, sigmoid\n",
    "layer2 = Dense(units=4, activation='sigmoid')\n",
    "print(\"Layer 2 config:\", layer2.get_config())\n",
    "\n",
    "# Output layer: 1 neuron, sigmoid\n",
    "layer3 = Dense(units=1, activation='sigmoid')\n",
    "print(\"Layer 3 config:\", layer3.get_config())"
   ]
  },
  {
   "cell_type": "code",
   "execution_count": null,
   "id": "29279ebc-8d6a-491e-8ab6-22a7e3c2683f",
   "metadata": {},
   "outputs": [],
   "source": []
  }
 ],
 "metadata": {
  "kernelspec": {
   "display_name": "Python 3 (ipykernel)",
   "language": "python",
   "name": "python3"
  },
  "language_info": {
   "codemirror_mode": {
    "name": "ipython",
    "version": 3
   },
   "file_extension": ".py",
   "mimetype": "text/x-python",
   "name": "python",
   "nbconvert_exporter": "python",
   "pygments_lexer": "ipython3",
   "version": "3.12.11"
  }
 },
 "nbformat": 4,
 "nbformat_minor": 5
}
